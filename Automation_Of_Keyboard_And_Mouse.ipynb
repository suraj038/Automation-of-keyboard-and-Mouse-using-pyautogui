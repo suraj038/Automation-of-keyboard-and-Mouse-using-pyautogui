{
 "cells": [
  {
   "cell_type": "code",
   "execution_count": null,
   "metadata": {},
   "outputs": [],
   "source": [
    "#A basic PyAutoGui python program to automate keyboard and mouse\n",
    "\n",
    "# Importing the required Libraries\n",
    "import pyautogui,time\n",
    "import webbrowser\n",
    "import pyfiglet\n",
    "\n",
    "# For the Figlet(cool stuff)\n",
    "result = pyfiglet.figlet_format(\"suraj\")\n",
    "\n",
    "# To open up a browser\n",
    "webbrowser.open(\"https://www.google.com/\")\n",
    "\n",
    "# This will stop the prrogram execution for 5 seconds\n",
    "time.sleep(5)\n",
    "\n",
    "#All the pyautogui commands will go from here\n",
    "pyautogui.hotkey(\"ctrl\",\"n\")\n",
    "time.sleep(1)\n",
    "pyautogui.typewrite(\"https://hack.chat/?suraj\")\n",
    "pyautogui.press(\"enter\")\n",
    "time.sleep(3)\n",
    "pyautogui.typewrite(\"suraj\",interval=0.1)\n",
    "pyautogui.press(\"enter\")\n",
    "pyautogui.typewrite(\"Hello There\",interval=0.1)\n",
    "pyautogui.press(\"enter\")\n",
    "pyautogui.typewrite(\"Don't worry, i have just taken a little control over your system\",interval=0.1)\n",
    "pyautogui.press(\"enter\")\n",
    "pyautogui.typewrite(\"SIT BACK AND RELAX\",interval=0.1)\n",
    "pyautogui.press(\"enter\")\n",
    "pyautogui.typewrite(\"P.S. Hacked By suraj!\",interval=0.1)\n",
    "pyautogui.press(\"enter\")\n",
    "pyautogui.typewrite(result)\n",
    "pyautogui.press(\"enter\")"
   ]
  },
  {
   "cell_type": "code",
   "execution_count": null,
   "metadata": {},
   "outputs": [],
   "source": []
  }
 ],
 "metadata": {
  "kernelspec": {
   "display_name": "Python 3",
   "language": "python",
   "name": "python3"
  },
  "language_info": {
   "codemirror_mode": {
    "name": "ipython",
    "version": 3
   },
   "file_extension": ".py",
   "mimetype": "text/x-python",
   "name": "python",
   "nbconvert_exporter": "python",
   "pygments_lexer": "ipython3",
   "version": "3.6.7"
  }
 },
 "nbformat": 4,
 "nbformat_minor": 2
}
